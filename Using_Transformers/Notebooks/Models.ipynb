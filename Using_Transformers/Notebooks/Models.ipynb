{
 "cells": [
  {
   "cell_type": "markdown",
   "id": "d5987089-d735-48d2-ab75-a5c8a91febaf",
   "metadata": {},
   "source": [
    "# Models"
   ]
  },
  {
   "cell_type": "markdown",
   "id": "40583e29-56cd-48c7-883b-2ce60071d3d2",
   "metadata": {},
   "source": [
    "Auto model is an wrapper that inteligently guesses the model from library based on the checkpoint then instantiates a model with this architecture   \n",
    "However, if you know the type of model you want to use, you can use the class that defines its architecture directly"
   ]
  },
  {
   "cell_type": "code",
   "execution_count": 1,
   "id": "2108e1a3-ccac-404a-a55f-30b367b8658b",
   "metadata": {},
   "outputs": [],
   "source": [
    "from transformers import BertConfig,BertModel"
   ]
  },
  {
   "cell_type": "code",
   "execution_count": 3,
   "id": "be274861-af22-4206-914b-66b40337cdd8",
   "metadata": {},
   "outputs": [],
   "source": [
    "# Building the config\n",
    "config=BertConfig()\n",
    "# Building the model from the config\n",
    "model=BertModel(config)"
   ]
  },
  {
   "cell_type": "code",
   "execution_count": 5,
   "id": "1a3aebf1-763e-4901-8ebb-4720effa735b",
   "metadata": {},
   "outputs": [
    {
     "name": "stdout",
     "output_type": "stream",
     "text": [
      "BertConfig {\n",
      "  \"attention_probs_dropout_prob\": 0.1,\n",
      "  \"classifier_dropout\": null,\n",
      "  \"hidden_act\": \"gelu\",\n",
      "  \"hidden_dropout_prob\": 0.1,\n",
      "  \"hidden_size\": 768,\n",
      "  \"initializer_range\": 0.02,\n",
      "  \"intermediate_size\": 3072,\n",
      "  \"layer_norm_eps\": 1e-12,\n",
      "  \"max_position_embeddings\": 512,\n",
      "  \"model_type\": \"bert\",\n",
      "  \"num_attention_heads\": 12,\n",
      "  \"num_hidden_layers\": 12,\n",
      "  \"pad_token_id\": 0,\n",
      "  \"position_embedding_type\": \"absolute\",\n",
      "  \"transformers_version\": \"4.33.1\",\n",
      "  \"type_vocab_size\": 2,\n",
      "  \"use_cache\": true,\n",
      "  \"vocab_size\": 30522\n",
      "}\n",
      "\n"
     ]
    }
   ],
   "source": [
    "print(config)#Creating a model from the default configuration initializes it with random values:"
   ]
  },
  {
   "cell_type": "markdown",
   "id": "0d584ae4-8390-4f3c-83c6-c800566a8012",
   "metadata": {},
   "source": [
    ">Rather than training from scratch we can use pre trained check points"
   ]
  },
  {
   "cell_type": "markdown",
   "id": "e34182b0-1460-47c7-b5d1-60147f127c1b",
   "metadata": {},
   "source": [
    "we could replace BertModel with the equivalent AutoModel class. We’ll do this from now on as this produces checkpoint-agnostic code  \n",
    "This model is now initialized with all the weights of the checkpoint.\n",
    "cached in to ~/.cache/huggingface/transformers."
   ]
  },
  {
   "cell_type": "markdown",
   "id": "5fda26ec-a370-479f-877f-2d975a62df43",
   "metadata": {},
   "source": [
    "# Saving the Model"
   ]
  },
  {
   "cell_type": "code",
   "execution_count": 6,
   "id": "2f6300f6-f9d2-4388-a624-502fd97a038d",
   "metadata": {},
   "outputs": [],
   "source": [
    "model.save_pretrained(\"my_dir\")"
   ]
  },
  {
   "cell_type": "code",
   "execution_count": 7,
   "id": "1e7729fc-7867-4d0e-8c6d-8d7d2c664e93",
   "metadata": {},
   "outputs": [
    {
     "name": "stdout",
     "output_type": "stream",
     "text": [
      "config.json        pytorch_model.bin\n"
     ]
    }
   ],
   "source": [
    "ls my_dir"
   ]
  },
  {
   "cell_type": "markdown",
   "id": "14a1ff95-2a95-4fd8-a6fe-3a64290c6796",
   "metadata": {},
   "source": [
    " >config.json file,contains attributes necessary to build the model architecture. some metadata, such as where the checkpoint originated and what 🤗 Transformers version  \n",
    ">The pytorch_model.bin file is known as the state dictionary; it contains all your model’s weights. "
   ]
  },
  {
   "cell_type": "code",
   "execution_count": 10,
   "id": "669a684a-508d-4432-b84b-f75f8a27fe5d",
   "metadata": {},
   "outputs": [],
   "source": [
    "#Tokenizers can take care of casting the inputs to the appropriate framework’s tensors,\n",
    "sequences = [\"Hello!\", \"Cool.\", \"Nice!\"]\n",
    "#The tokenizer converts these to vocabulary indices which are typically called input IDs.\n",
    "encoded_sequences = [\n",
    "    [101, 7592, 999, 102],\n",
    "    [101, 4658, 1012, 102],\n",
    "    [101, 3835, 999, 102],\n",
    "]\n",
    "import torch\n",
    "\n",
    "model_inputs = torch.tensor(encoded_sequences)# converts to tensor\n",
    "output = model(model_inputs)\n",
    "#While the model accepts a lot of different arguments, only the input IDs are necessary."
   ]
  },
  {
   "cell_type": "code",
   "execution_count": null,
   "id": "9044af65-275d-42bd-9c46-e72e97b507ce",
   "metadata": {},
   "outputs": [],
   "source": []
  }
 ],
 "metadata": {
  "kernelspec": {
   "display_name": "Python 3 (ipykernel)",
   "language": "python",
   "name": "python3"
  },
  "language_info": {
   "codemirror_mode": {
    "name": "ipython",
    "version": 3
   },
   "file_extension": ".py",
   "mimetype": "text/x-python",
   "name": "python",
   "nbconvert_exporter": "python",
   "pygments_lexer": "ipython3",
   "version": "3.11.5"
  }
 },
 "nbformat": 4,
 "nbformat_minor": 5
}
