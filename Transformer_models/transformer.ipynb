{
 "cells": [
  {
   "cell_type": "markdown",
   "id": "38a21820-6b35-4a6b-a753-85356b221122",
   "metadata": {},
   "source": [
    " **Causal language modeling** because the output depends on the past and present inputs, but not the future ones.\n",
    "\n"
   ]
  },
  {
   "cell_type": "markdown",
   "id": "d5099b5a-72dd-42fc-b6b5-67a9737f138e",
   "metadata": {},
   "source": [
    "![](https://huggingface.co/datasets/huggingface-course/documentation-images/resolve/main/en/chapter1/causal_modeling.svg)"
   ]
  },
  {
   "cell_type": "markdown",
   "id": "9db476cb-aa98-46f1-a5ae-8572309d4409",
   "metadata": {},
   "source": [
    "**masked language modeling** in which the model predicts a masked word in the sentence."
   ]
  },
  {
   "cell_type": "markdown",
   "id": "2125fa82-7aee-43be-b491-050d9d219992",
   "metadata": {},
   "source": [
    "![](https://huggingface.co/datasets/huggingface-course/documentation-images/resolve/main/en/chapter1/masked_modeling.svg)"
   ]
  },
  {
   "cell_type": "code",
   "execution_count": null,
   "id": "0d038c10-e94a-42ed-8eaa-e623ea7270bf",
   "metadata": {},
   "outputs": [],
   "source": []
  }
 ],
 "metadata": {
  "kernelspec": {
   "display_name": "Python 3 (ipykernel)",
   "language": "python",
   "name": "python3"
  },
  "language_info": {
   "codemirror_mode": {
    "name": "ipython",
    "version": 3
   },
   "file_extension": ".py",
   "mimetype": "text/x-python",
   "name": "python",
   "nbconvert_exporter": "python",
   "pygments_lexer": "ipython3",
   "version": "3.11.5"
  }
 },
 "nbformat": 4,
 "nbformat_minor": 5
}
